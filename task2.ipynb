{
 "cells": [
  {
   "cell_type": "code",
   "execution_count": 4,
   "metadata": {},
   "outputs": [],
   "source": [
    "import pandas as pd\n",
    "import numpy as np\n",
    "import matplotlib.pyplot as plt\n",
    "import seaborn as sns\n",
    "import netCDF4 as nc\n",
    "import rasterio as rio\n",
    "import functions as f\n",
    "import xarray as xr\n",
    "from importlib import reload\n",
    "import os"
   ]
  },
  {
   "cell_type": "code",
   "execution_count": 6,
   "metadata": {},
   "outputs": [
    {
     "data": {
      "text/plain": [
       "range(1, 13)"
      ]
     },
     "execution_count": 6,
     "metadata": {},
     "output_type": "execute_result"
    }
   ],
   "source": [
    "np.arange(1,13)"
   ]
  },
  {
   "cell_type": "code",
   "execution_count": null,
   "metadata": {},
   "outputs": [],
   "source": [
    "#used population data or other data maybe land type, see if we can predict the temperature data.\n",
    "\n",
    "#load data\n",
    "\n",
    "folder_path = 'data_UHI'\n",
    "\n",
    "#load temperature data in data_UHI folder\n",
    "#iterate over file in folder: \n",
    "for file in os.listdir(folder_path):\n",
    "    filename = os.fsdecode(file)\n",
    "    if filename.startswith(\"tas\"):\n",
    "        temp = xr.open_dataset(folder_path + '/' + filename) \n",
    "        pop\n",
    "\n",
    "xr.open\n",
    "\n",
    "xr\n",
    "\n"
   ]
  }
 ],
 "metadata": {
  "kernelspec": {
   "display_name": "Python 3",
   "language": "python",
   "name": "python3"
  },
  "language_info": {
   "codemirror_mode": {
    "name": "ipython",
    "version": 3
   },
   "file_extension": ".py",
   "mimetype": "text/x-python",
   "name": "python",
   "nbconvert_exporter": "python",
   "pygments_lexer": "ipython3",
   "version": "3.11.6"
  }
 },
 "nbformat": 4,
 "nbformat_minor": 2
}
