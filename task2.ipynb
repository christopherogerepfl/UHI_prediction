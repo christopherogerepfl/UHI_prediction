{
 "cells": [
  {
   "cell_type": "markdown",
   "metadata": {},
   "source": [
    "- Assess if temperature data can be predicted based on population data (and maybe other external input such as land cover type)."
   ]
  },
  {
   "cell_type": "markdown",
   "metadata": {},
   "source": [
    "Import"
   ]
  },
  {
   "cell_type": "code",
   "execution_count": 6,
   "metadata": {
    "execution": {
     "iopub.execute_input": "2023-12-19T13:19:34.508126Z",
     "iopub.status.busy": "2023-12-19T13:19:34.507209Z",
     "iopub.status.idle": "2023-12-19T13:19:43.269422Z",
     "shell.execute_reply": "2023-12-19T13:19:43.266980Z",
     "shell.execute_reply.started": "2023-12-19T13:19:34.508047Z"
    },
    "tags": []
   },
   "outputs": [],
   "source": [
    "import pandas as pd\n",
    "import numpy as np\n",
    "import matplotlib.pyplot as plt\n",
    "import seaborn as sns\n",
    "import netCDF4 as nc\n",
    "import rasterio as rio\n",
    "import functions as f\n",
    "import xarray as xr\n",
    "from importlib import reload\n",
    "import os\n",
    "from tqdm import tqdm"
   ]
  },
  {
   "cell_type": "markdown",
   "metadata": {},
   "source": [
    "## Data description\n",
    "\n",
    "\n",
    "#### Enact 2011 Population Grid\n",
    "Datas of population: Monthly, 1000x1000m, European\n",
    "\n",
    "#### UrbClim models: \n",
    "Monthly dataset, with hourly datas, 100x100m, Cities \n",
    "Air Temperature, Relative humidity, Specific humidity, Wind speed\n",
    "\n",
    "Yearly dataset, 100x100m, Cities\n",
    "Land-sea mask, Rural-urban mask"
   ]
  },
  {
   "cell_type": "markdown",
   "metadata": {},
   "source": [
    "## Importing data"
   ]
  },
  {
   "cell_type": "code",
   "execution_count": 7,
   "metadata": {
    "execution": {
     "iopub.execute_input": "2023-12-19T13:19:48.532230Z",
     "iopub.status.busy": "2023-12-19T13:19:48.530962Z",
     "iopub.status.idle": "2023-12-19T13:19:48.542740Z",
     "shell.execute_reply": "2023-12-19T13:19:48.540381Z",
     "shell.execute_reply.started": "2023-12-19T13:19:48.532149Z"
    },
    "tags": []
   },
   "outputs": [],
   "source": [
    "#Defining parameters\n",
    "\n",
    "folder_path = 'data_UHI'\n",
    "cities = ['Lyon']\n",
    "number_of_sample_per_city = 100000\n"
   ]
  },
  {
   "cell_type": "code",
   "execution_count": 53,
   "metadata": {},
   "outputs": [
    {
     "name": "stderr",
     "output_type": "stream",
     "text": [
      "  0%|          | 0/12 [00:00<?, ?it/s]C:\\Users\\broth\\AppData\\Local\\Temp\\ipykernel_1604\\134542018.py:46: FutureWarning: The behavior of DataFrame concatenation with empty or all-NA entries is deprecated. In a future version, this will no longer exclude empty or all-NA columns when determining the result dtypes. To retain the old behavior, exclude the relevant entries before the concat operation.\n",
      "  city_df = pd.concat([city_df, pd.DataFrame({'temp': temp_file.tas.values.flatten()[indexes],\n",
      "100%|██████████| 12/12 [02:30<00:00, 12.54s/it]\n"
     ]
    }
   ],
   "source": [
    "#Loading the moduke functions\n",
    "reload(f)\n",
    "\n",
    "#Loading data for Lyon\n",
    "city_df = pd.DataFrame(columns=['temp', 'pop', 'deltaT', 'hour','isrural', 'city', 'landcover'])\n",
    "for city in cities:\n",
    "    for month in tqdm(range(1,13)):\n",
    "        #Open the datasets\n",
    "        if month < 10:\n",
    "            str_month = '0'+str(month)\n",
    "        \n",
    "        #Setting paths\n",
    "        temp_file_path = folder_path + '/tas_'+ city +'_UrbClim_2011_'+ str_month +'_v1.0.nc'\n",
    "        rural_mask_file_path = folder_path +'/ruralurbanmask_'+city +'_UrbClim_v1.0.nc'\n",
    "\n",
    "        #Open the datasets\n",
    "        pop_day = rio.open(folder_path + f'/ENACT_POP_D{str_month}2011_EU28_R2020A_4326_30ss_V1_0.tif')\n",
    "        pop_night = rio.open(folder_path + f'/ENACT_POP_N{str_month}2011_EU28_R2020A_4326_30ss_V1_0.tif')\n",
    "        rural_mask_file = xr.open_dataset(rural_mask_file_path)\n",
    "        temp_file = xr.open_dataset(temp_file_path)\n",
    "        land_cover = rio.open(folder_path + '/MCD12Q1.061_LC_Prop1_doy2011001_aid0001.tif')\n",
    "\n",
    "        #Crop and resample the datasets\n",
    "        cropped_pop_day, cropped_pop_night, temp_file_red= f.crop_and_downgrade(pop_day, pop_night, temp_file)\n",
    "        pop_day_city = f.resample_image(cropped_pop_day, temp_file.tas[0,:,:].shape)\n",
    "        pop_night_city = f.resample_image(cropped_pop_night, temp_file.tas[0,:,:].shape)\n",
    "        populations = np.concatenate([np.tile(pop_night_city.flatten(),8), np.tile(pop_day_city.flatten(), 12), np.tile(pop_night_city.flatten(), 4)])\n",
    "        populations = np.tile(populations, 31)\n",
    "        \n",
    "        lc_city = f.crop_image(land_cover, temp_file)\n",
    "        lc_city = f.resample_image(lc_city, temp_file.tas[0,:,:].shape)\n",
    "        lc_flatten = np.tile(lc_city.flatten(), temp_file.tas.shape[0])\n",
    "\n",
    "        latitude = np.tile(temp_file.latitude.values.flatten(), temp_file.tas.shape[0])\n",
    "        longitude = np.tile(temp_file.longitude.values.flatten(), temp_file.tas.shape[0])\n",
    "\n",
    "        day_hours = np.tile(np.arange(0,24), temp_file.x.shape[0]*temp_file.y.shape[0])\n",
    "        hours = np.tile(day_hours.reshape(temp_file.x.shape[0]*temp_file.y.shape[0], 24).flatten(order='F'), 31)\n",
    "\n",
    "        deltaT = f.compute_deltaT_urban(temp_file, rural_mask_file)\n",
    "        rural = np.tile(rural_mask_file.ruralurbanmask.values.flatten(), temp_file.tas.shape[0])\n",
    "        city_data = np.tile(np.array([city]), number_of_sample_per_city)\n",
    "\n",
    "        #generate random indexes to sample the data\n",
    "        indexes = np.random.randint(0, temp_file.tas.shape[0]*temp_file.tas.shape[1]*temp_file.tas.shape[2], number_of_sample_per_city)\n",
    "        city_df = pd.concat([city_df, pd.DataFrame({'temp': temp_file.tas.values.flatten()[indexes],\n",
    "                                                    'pop':populations[indexes], \n",
    "                                                    'deltaT': deltaT[indexes],\n",
    "                                                    'hour': hours[indexes],\n",
    "                                                    'isrural' : rural[indexes],\n",
    "                                                    'landcover':lc_flatten[indexes],\n",
    "                                                    'city' : city_data})])\n"
   ]
  },
  {
   "cell_type": "markdown",
   "metadata": {},
   "source": [
    "## Importing data file with several citys"
   ]
  },
  {
   "cell_type": "code",
   "execution_count": 8,
   "metadata": {
    "execution": {
     "iopub.execute_input": "2023-12-19T13:19:52.065431Z",
     "iopub.status.busy": "2023-12-19T13:19:52.064610Z",
     "iopub.status.idle": "2023-12-19T13:20:10.155884Z",
     "shell.execute_reply": "2023-12-19T13:20:10.154995Z",
     "shell.execute_reply.started": "2023-12-19T13:19:52.065355Z"
    },
    "tags": []
   },
   "outputs": [
    {
     "data": {
      "text/html": [
       "<div>\n",
       "<style scoped>\n",
       "    .dataframe tbody tr th:only-of-type {\n",
       "        vertical-align: middle;\n",
       "    }\n",
       "\n",
       "    .dataframe tbody tr th {\n",
       "        vertical-align: top;\n",
       "    }\n",
       "\n",
       "    .dataframe thead th {\n",
       "        text-align: right;\n",
       "    }\n",
       "</style>\n",
       "<table border=\"1\" class=\"dataframe\">\n",
       "  <thead>\n",
       "    <tr style=\"text-align: right;\">\n",
       "      <th></th>\n",
       "      <th>Unnamed: 0</th>\n",
       "      <th>temp</th>\n",
       "      <th>pop</th>\n",
       "      <th>wind</th>\n",
       "      <th>hum</th>\n",
       "      <th>deltaT</th>\n",
       "      <th>hour</th>\n",
       "      <th>month</th>\n",
       "      <th>elevation</th>\n",
       "      <th>city</th>\n",
       "      <th>land cover type</th>\n",
       "      <th>NDVI</th>\n",
       "      <th>isrural</th>\n",
       "      <th>latitude</th>\n",
       "      <th>pop_cat</th>\n",
       "    </tr>\n",
       "  </thead>\n",
       "  <tbody>\n",
       "    <tr>\n",
       "      <th>0</th>\n",
       "      <td>0</td>\n",
       "      <td>281.45820</td>\n",
       "      <td>173.245821</td>\n",
       "      <td>2.578628</td>\n",
       "      <td>91.793300</td>\n",
       "      <td>-0.197296</td>\n",
       "      <td>8</td>\n",
       "      <td>1</td>\n",
       "      <td>0.0</td>\n",
       "      <td>Amsterdam</td>\n",
       "      <td>22.0</td>\n",
       "      <td>0.692</td>\n",
       "      <td>1.0</td>\n",
       "      <td>52.377956</td>\n",
       "      <td>1</td>\n",
       "    </tr>\n",
       "    <tr>\n",
       "      <th>1</th>\n",
       "      <td>1</td>\n",
       "      <td>277.59088</td>\n",
       "      <td>1227.491137</td>\n",
       "      <td>1.953275</td>\n",
       "      <td>84.101190</td>\n",
       "      <td>1.419159</td>\n",
       "      <td>6</td>\n",
       "      <td>1</td>\n",
       "      <td>1.0</td>\n",
       "      <td>Amsterdam</td>\n",
       "      <td>22.0</td>\n",
       "      <td>0.616</td>\n",
       "      <td>0.0</td>\n",
       "      <td>52.377956</td>\n",
       "      <td>2</td>\n",
       "    </tr>\n",
       "    <tr>\n",
       "      <th>2</th>\n",
       "      <td>2</td>\n",
       "      <td>273.18600</td>\n",
       "      <td>1.752613</td>\n",
       "      <td>5.365040</td>\n",
       "      <td>90.277060</td>\n",
       "      <td>0.115814</td>\n",
       "      <td>20</td>\n",
       "      <td>1</td>\n",
       "      <td>-1.0</td>\n",
       "      <td>Amsterdam</td>\n",
       "      <td>22.0</td>\n",
       "      <td>0.852</td>\n",
       "      <td>1.0</td>\n",
       "      <td>52.377956</td>\n",
       "      <td>0</td>\n",
       "    </tr>\n",
       "    <tr>\n",
       "      <th>3</th>\n",
       "      <td>3</td>\n",
       "      <td>277.83900</td>\n",
       "      <td>10.464526</td>\n",
       "      <td>3.113809</td>\n",
       "      <td>73.838870</td>\n",
       "      <td>0.302155</td>\n",
       "      <td>14</td>\n",
       "      <td>1</td>\n",
       "      <td>-1.0</td>\n",
       "      <td>Amsterdam</td>\n",
       "      <td>31.0</td>\n",
       "      <td>0.848</td>\n",
       "      <td>0.0</td>\n",
       "      <td>52.377956</td>\n",
       "      <td>0</td>\n",
       "    </tr>\n",
       "    <tr>\n",
       "      <th>4</th>\n",
       "      <td>4</td>\n",
       "      <td>273.96704</td>\n",
       "      <td>5172.893327</td>\n",
       "      <td>2.953496</td>\n",
       "      <td>82.726715</td>\n",
       "      <td>1.439209</td>\n",
       "      <td>7</td>\n",
       "      <td>1</td>\n",
       "      <td>6.0</td>\n",
       "      <td>Amsterdam</td>\n",
       "      <td>1.0</td>\n",
       "      <td>0.416</td>\n",
       "      <td>0.0</td>\n",
       "      <td>52.377956</td>\n",
       "      <td>2</td>\n",
       "    </tr>\n",
       "    <tr>\n",
       "      <th>...</th>\n",
       "      <td>...</td>\n",
       "      <td>...</td>\n",
       "      <td>...</td>\n",
       "      <td>...</td>\n",
       "      <td>...</td>\n",
       "      <td>...</td>\n",
       "      <td>...</td>\n",
       "      <td>...</td>\n",
       "      <td>...</td>\n",
       "      <td>...</td>\n",
       "      <td>...</td>\n",
       "      <td>...</td>\n",
       "      <td>...</td>\n",
       "      <td>...</td>\n",
       "      <td>...</td>\n",
       "    </tr>\n",
       "    <tr>\n",
       "      <th>2120876</th>\n",
       "      <td>39101</td>\n",
       "      <td>280.48407</td>\n",
       "      <td>714.744684</td>\n",
       "      <td>1.391384</td>\n",
       "      <td>62.377445</td>\n",
       "      <td>2.148163</td>\n",
       "      <td>4</td>\n",
       "      <td>12</td>\n",
       "      <td>155.0</td>\n",
       "      <td>Vienna</td>\n",
       "      <td>31.0</td>\n",
       "      <td>0.552</td>\n",
       "      <td>1.0</td>\n",
       "      <td>48.208174</td>\n",
       "      <td>1</td>\n",
       "    </tr>\n",
       "    <tr>\n",
       "      <th>2120877</th>\n",
       "      <td>39102</td>\n",
       "      <td>279.47736</td>\n",
       "      <td>61.740572</td>\n",
       "      <td>3.439714</td>\n",
       "      <td>64.843820</td>\n",
       "      <td>1.854706</td>\n",
       "      <td>8</td>\n",
       "      <td>12</td>\n",
       "      <td>158.0</td>\n",
       "      <td>Vienna</td>\n",
       "      <td>32.0</td>\n",
       "      <td>0.500</td>\n",
       "      <td>0.0</td>\n",
       "      <td>48.208174</td>\n",
       "      <td>0</td>\n",
       "    </tr>\n",
       "    <tr>\n",
       "      <th>2120878</th>\n",
       "      <td>39103</td>\n",
       "      <td>271.95370</td>\n",
       "      <td>282.486265</td>\n",
       "      <td>0.401704</td>\n",
       "      <td>94.167250</td>\n",
       "      <td>-0.042053</td>\n",
       "      <td>3</td>\n",
       "      <td>12</td>\n",
       "      <td>151.0</td>\n",
       "      <td>Vienna</td>\n",
       "      <td>31.0</td>\n",
       "      <td>0.620</td>\n",
       "      <td>1.0</td>\n",
       "      <td>48.208174</td>\n",
       "      <td>1</td>\n",
       "    </tr>\n",
       "    <tr>\n",
       "      <th>2120879</th>\n",
       "      <td>39104</td>\n",
       "      <td>279.80844</td>\n",
       "      <td>895.581379</td>\n",
       "      <td>3.410964</td>\n",
       "      <td>67.637910</td>\n",
       "      <td>1.015381</td>\n",
       "      <td>10</td>\n",
       "      <td>12</td>\n",
       "      <td>153.0</td>\n",
       "      <td>Vienna</td>\n",
       "      <td>31.0</td>\n",
       "      <td>0.524</td>\n",
       "      <td>0.0</td>\n",
       "      <td>48.208174</td>\n",
       "      <td>1</td>\n",
       "    </tr>\n",
       "    <tr>\n",
       "      <th>2120880</th>\n",
       "      <td>39105</td>\n",
       "      <td>277.57400</td>\n",
       "      <td>3570.686009</td>\n",
       "      <td>2.011844</td>\n",
       "      <td>79.818375</td>\n",
       "      <td>2.298340</td>\n",
       "      <td>18</td>\n",
       "      <td>12</td>\n",
       "      <td>197.0</td>\n",
       "      <td>Vienna</td>\n",
       "      <td>22.0</td>\n",
       "      <td>0.296</td>\n",
       "      <td>0.0</td>\n",
       "      <td>48.208174</td>\n",
       "      <td>2</td>\n",
       "    </tr>\n",
       "  </tbody>\n",
       "</table>\n",
       "<p>2120881 rows × 15 columns</p>\n",
       "</div>"
      ],
      "text/plain": [
       "         Unnamed: 0       temp          pop      wind        hum    deltaT  \\\n",
       "0                 0  281.45820   173.245821  2.578628  91.793300 -0.197296   \n",
       "1                 1  277.59088  1227.491137  1.953275  84.101190  1.419159   \n",
       "2                 2  273.18600     1.752613  5.365040  90.277060  0.115814   \n",
       "3                 3  277.83900    10.464526  3.113809  73.838870  0.302155   \n",
       "4                 4  273.96704  5172.893327  2.953496  82.726715  1.439209   \n",
       "...             ...        ...          ...       ...        ...       ...   \n",
       "2120876       39101  280.48407   714.744684  1.391384  62.377445  2.148163   \n",
       "2120877       39102  279.47736    61.740572  3.439714  64.843820  1.854706   \n",
       "2120878       39103  271.95370   282.486265  0.401704  94.167250 -0.042053   \n",
       "2120879       39104  279.80844   895.581379  3.410964  67.637910  1.015381   \n",
       "2120880       39105  277.57400  3570.686009  2.011844  79.818375  2.298340   \n",
       "\n",
       "         hour  month  elevation       city  land cover type   NDVI  isrural  \\\n",
       "0           8      1        0.0  Amsterdam             22.0  0.692      1.0   \n",
       "1           6      1        1.0  Amsterdam             22.0  0.616      0.0   \n",
       "2          20      1       -1.0  Amsterdam             22.0  0.852      1.0   \n",
       "3          14      1       -1.0  Amsterdam             31.0  0.848      0.0   \n",
       "4           7      1        6.0  Amsterdam              1.0  0.416      0.0   \n",
       "...       ...    ...        ...        ...              ...    ...      ...   \n",
       "2120876     4     12      155.0     Vienna             31.0  0.552      1.0   \n",
       "2120877     8     12      158.0     Vienna             32.0  0.500      0.0   \n",
       "2120878     3     12      151.0     Vienna             31.0  0.620      1.0   \n",
       "2120879    10     12      153.0     Vienna             31.0  0.524      0.0   \n",
       "2120880    18     12      197.0     Vienna             22.0  0.296      0.0   \n",
       "\n",
       "          latitude  pop_cat  \n",
       "0        52.377956        1  \n",
       "1        52.377956        2  \n",
       "2        52.377956        0  \n",
       "3        52.377956        0  \n",
       "4        52.377956        2  \n",
       "...            ...      ...  \n",
       "2120876  48.208174        1  \n",
       "2120877  48.208174        0  \n",
       "2120878  48.208174        1  \n",
       "2120879  48.208174        1  \n",
       "2120880  48.208174        2  \n",
       "\n",
       "[2120881 rows x 15 columns]"
      ]
     },
     "execution_count": 8,
     "metadata": {},
     "output_type": "execute_result"
    }
   ],
   "source": [
    "#read csv\n",
    "city_df = pd.read_csv('data_UHI/city_df.csv')\n",
    "city_df.dropna(inplace=True)\n",
    "city_df"
   ]
  },
  {
   "cell_type": "markdown",
   "metadata": {},
   "source": [
    "## Data Approach\n",
    "\n",
    "We split the data between different population to obtain a first overview of the correlation of the heat islands phenomena and the population amount. "
   ]
  },
  {
   "cell_type": "code",
   "execution_count": 9,
   "metadata": {
    "execution": {
     "iopub.execute_input": "2023-12-19T13:20:10.157974Z",
     "iopub.status.busy": "2023-12-19T13:20:10.157245Z",
     "iopub.status.idle": "2023-12-19T13:20:11.059391Z",
     "shell.execute_reply": "2023-12-19T13:20:11.056813Z",
     "shell.execute_reply.started": "2023-12-19T13:20:10.157942Z"
    },
    "tags": []
   },
   "outputs": [],
   "source": [
    "df_sample = city_df\n",
    "#df_sample = city_df[city_df['city'] == 'Vienna']\n",
    "\n",
    "df_5000 = df_sample[df_sample['pop'] > 5000]\n",
    "\n",
    "df_2500 = df_sample[df_sample['pop'] < 5000]\n",
    "df_2500 = df_2500[df_2500['pop'] > 2500]\n",
    "\n",
    "df_1000 = df_sample[df_sample['pop'] < 2500]\n",
    "df_1000 = df_1000[df_1000['pop'] > 1000]\n",
    "\n",
    "df_0 = df_sample[df_sample['pop'] < 1000]\n",
    "df_0 = df_0[df_0['pop'] > 0]\n",
    "\n",
    "\n",
    "dfs = [df_sample, df_5000, df_2500, df_1000, df_0]"
   ]
  },
  {
   "cell_type": "code",
   "execution_count": 10,
   "metadata": {
    "execution": {
     "iopub.execute_input": "2023-12-19T13:20:11.062597Z",
     "iopub.status.busy": "2023-12-19T13:20:11.061864Z",
     "iopub.status.idle": "2023-12-19T13:20:13.204588Z",
     "shell.execute_reply": "2023-12-19T13:20:13.202981Z",
     "shell.execute_reply.started": "2023-12-19T13:20:11.062506Z"
    },
    "tags": []
   },
   "outputs": [
    {
     "data": {
      "image/png": "[encoded data removed]",
      "text/plain": [
       "<Figure size 1500x1000 with 6 Axes>"
      ]
     },
     "metadata": {},
     "output_type": "display_data"
    }
   ],
   "source": [
    "#plot histogram of delta T for all the dataframes with 2 side by side plots\n",
    "df_legends =   ['all','pop > 5000', '2500 < pop < 5000', '1000 < pop < 2500','0 < pop <1000']\n",
    "fig, axs = plt.subplots(2, 3, figsize=(15, 10))\n",
    "axs = axs.flatten()\n",
    "for i, df in enumerate(dfs):\n",
    "    axs[i].hist(df['deltaT'], bins=50, label = df_legends[i] + f',mean = {df[\"deltaT\"].mean():.4f}')\n",
    "    axs[i].set_title(df_legends[i])\n",
    "    axs[i].legend()\n",
    "    axs[i].set_xlabel('deltaT')\n",
    "    axs[i].set_ylabel('Number of sample')"
   ]
  },
  {
   "cell_type": "markdown",
   "metadata": {},
   "source": [
    "## Machine Learning methods\n",
    "\n",
    "The features on which the analysis is carried upon with are here: temperature, heat islands phenomena, land cover type, NDVI, elevation and latitude.\n",
    "We restrict the analysis to the urban zone, by choosing only features with 'isrural' == 1.\n",
    "\n",
    "The data is split between train, test and validation set. \n",
    "The data is then scaled. \n",
    "\n",
    "The analysis aims at identifying the population based on attributes such as heat islands (namely 'deltaT') and Land Cover. "
   ]
  },
  {
   "cell_type": "code",
   "execution_count": 11,
   "metadata": {
    "execution": {
     "iopub.execute_input": "2023-12-19T13:20:13.207227Z",
     "iopub.status.busy": "2023-12-19T13:20:13.206909Z",
     "iopub.status.idle": "2023-12-19T13:20:13.215617Z",
     "shell.execute_reply": "2023-12-19T13:20:13.214314Z",
     "shell.execute_reply.started": "2023-12-19T13:20:13.207199Z"
    },
    "tags": []
   },
   "outputs": [],
   "source": [
    "# Importing the modules\n",
    "from sklearn.linear_model import LinearRegression\n",
    "from sklearn.linear_model import Ridge\n",
    "from sklearn.neural_network import MLPRegressor\n",
    "from sklearn.ensemble import RandomForestRegressor\n",
    "from sklearn.ensemble import GradientBoostingRegressor\n",
    "from sklearn.ensemble import ExtraTreesRegressor\n",
    "from sklearn.ensemble import HistGradientBoostingRegressor\n",
    "\n",
    "\n",
    "from sklearn.model_selection import train_test_split\n",
    "from sklearn.metrics import mean_squared_error\n",
    "from sklearn.metrics import r2_score\n",
    "from sklearn.preprocessing import StandardScaler\n",
    "from sklearn.preprocessing import LabelEncoder"
   ]
  },
  {
   "cell_type": "code",
   "execution_count": 12,
   "metadata": {
    "execution": {
     "iopub.execute_input": "2023-12-19T13:20:13.217165Z",
     "iopub.status.busy": "2023-12-19T13:20:13.216888Z",
     "iopub.status.idle": "2023-12-19T13:20:14.204378Z",
     "shell.execute_reply": "2023-12-19T13:20:14.202815Z",
     "shell.execute_reply.started": "2023-12-19T13:20:13.217140Z"
    },
    "tags": []
   },
   "outputs": [
    {
     "data": {
      "text/html": [
       "<div>\n",
       "<style scoped>\n",
       "    .dataframe tbody tr th:only-of-type {\n",
       "        vertical-align: middle;\n",
       "    }\n",
       "\n",
       "    .dataframe tbody tr th {\n",
       "        vertical-align: top;\n",
       "    }\n",
       "\n",
       "    .dataframe thead th {\n",
       "        text-align: right;\n",
       "    }\n",
       "</style>\n",
       "<table border=\"1\" class=\"dataframe\">\n",
       "  <thead>\n",
       "    <tr style=\"text-align: right;\">\n",
       "      <th></th>\n",
       "      <th>temp</th>\n",
       "      <th>deltaT</th>\n",
       "      <th>land cover type</th>\n",
       "      <th>NDVI</th>\n",
       "      <th>elevation</th>\n",
       "      <th>latitude</th>\n",
       "    </tr>\n",
       "  </thead>\n",
       "  <tbody>\n",
       "    <tr>\n",
       "      <th>807942</th>\n",
       "      <td>-0.554028</td>\n",
       "      <td>0.085161</td>\n",
       "      <td>0.787604</td>\n",
       "      <td>-0.120613</td>\n",
       "      <td>-0.304907</td>\n",
       "      <td>-0.091867</td>\n",
       "    </tr>\n",
       "    <tr>\n",
       "      <th>334091</th>\n",
       "      <td>1.500152</td>\n",
       "      <td>2.757886</td>\n",
       "      <td>0.787604</td>\n",
       "      <td>-1.956730</td>\n",
       "      <td>1.750390</td>\n",
       "      <td>-1.508353</td>\n",
       "    </tr>\n",
       "    <tr>\n",
       "      <th>991690</th>\n",
       "      <td>-0.707862</td>\n",
       "      <td>0.676865</td>\n",
       "      <td>0.787604</td>\n",
       "      <td>0.065062</td>\n",
       "      <td>-0.349587</td>\n",
       "      <td>-0.091867</td>\n",
       "    </tr>\n",
       "    <tr>\n",
       "      <th>954043</th>\n",
       "      <td>1.636700</td>\n",
       "      <td>-0.456260</td>\n",
       "      <td>-1.416131</td>\n",
       "      <td>1.034697</td>\n",
       "      <td>-0.327247</td>\n",
       "      <td>-0.091867</td>\n",
       "    </tr>\n",
       "    <tr>\n",
       "      <th>986376</th>\n",
       "      <td>-0.236223</td>\n",
       "      <td>-0.127350</td>\n",
       "      <td>0.787604</td>\n",
       "      <td>0.065062</td>\n",
       "      <td>-0.211078</td>\n",
       "      <td>-0.091867</td>\n",
       "    </tr>\n",
       "    <tr>\n",
       "      <th>...</th>\n",
       "      <td>...</td>\n",
       "      <td>...</td>\n",
       "      <td>...</td>\n",
       "      <td>...</td>\n",
       "      <td>...</td>\n",
       "      <td>...</td>\n",
       "    </tr>\n",
       "    <tr>\n",
       "      <th>861518</th>\n",
       "      <td>0.191198</td>\n",
       "      <td>-0.028037</td>\n",
       "      <td>0.787604</td>\n",
       "      <td>0.003170</td>\n",
       "      <td>-0.260226</td>\n",
       "      <td>-0.091867</td>\n",
       "    </tr>\n",
       "    <tr>\n",
       "      <th>275482</th>\n",
       "      <td>0.477015</td>\n",
       "      <td>2.350228</td>\n",
       "      <td>0.787604</td>\n",
       "      <td>-1.771055</td>\n",
       "      <td>2.081025</td>\n",
       "      <td>-1.508353</td>\n",
       "    </tr>\n",
       "    <tr>\n",
       "      <th>211804</th>\n",
       "      <td>-0.546092</td>\n",
       "      <td>0.747922</td>\n",
       "      <td>0.787604</td>\n",
       "      <td>1.344155</td>\n",
       "      <td>-1.046601</td>\n",
       "      <td>0.666204</td>\n",
       "    </tr>\n",
       "    <tr>\n",
       "      <th>699121</th>\n",
       "      <td>1.232423</td>\n",
       "      <td>1.543368</td>\n",
       "      <td>-0.379080</td>\n",
       "      <td>0.353889</td>\n",
       "      <td>1.035504</td>\n",
       "      <td>-0.536213</td>\n",
       "    </tr>\n",
       "    <tr>\n",
       "      <th>706828</th>\n",
       "      <td>0.706003</td>\n",
       "      <td>2.745985</td>\n",
       "      <td>-0.379080</td>\n",
       "      <td>-0.533224</td>\n",
       "      <td>0.057004</td>\n",
       "      <td>-0.536213</td>\n",
       "    </tr>\n",
       "  </tbody>\n",
       "</table>\n",
       "<p>670953 rows × 6 columns</p>\n",
       "</div>"
      ],
      "text/plain": [
       "            temp    deltaT  land cover type      NDVI  elevation  latitude\n",
       "807942 -0.554028  0.085161         0.787604 -0.120613  -0.304907 -0.091867\n",
       "334091  1.500152  2.757886         0.787604 -1.956730   1.750390 -1.508353\n",
       "991690 -0.707862  0.676865         0.787604  0.065062  -0.349587 -0.091867\n",
       "954043  1.636700 -0.456260        -1.416131  1.034697  -0.327247 -0.091867\n",
       "986376 -0.236223 -0.127350         0.787604  0.065062  -0.211078 -0.091867\n",
       "...          ...       ...              ...       ...        ...       ...\n",
       "861518  0.191198 -0.028037         0.787604  0.003170  -0.260226 -0.091867\n",
       "275482  0.477015  2.350228         0.787604 -1.771055   2.081025 -1.508353\n",
       "211804 -0.546092  0.747922         0.787604  1.344155  -1.046601  0.666204\n",
       "699121  1.232423  1.543368        -0.379080  0.353889   1.035504 -0.536213\n",
       "706828  0.706003  2.745985        -0.379080 -0.533224   0.057004 -0.536213\n",
       "\n",
       "[670953 rows x 6 columns]"
      ]
     },
     "execution_count": 12,
     "metadata": {},
     "output_type": "execute_result"
    }
   ],
   "source": [
    "scaler = StandardScaler()\n",
    "df = dfs[0]\n",
    "df = df[df['isrural'] == 1]\n",
    "\n",
    "y = df['pop']\n",
    "X = df.loc[:,  ['temp', 'deltaT', 'land cover type', 'NDVI', 'elevation', 'latitude']]\n",
    "X = pd.DataFrame(scaler.fit_transform(X), columns=X.columns)\n",
    "\n",
    "#split the data in training, test, validation\n",
    "X_train, X_test, y_train, y_test = train_test_split(X, y, test_size=0.2)\n",
    "X_train, X_val, y_train, y_val = train_test_split(X_train, y_train, test_size=0.2)\n",
    "\n",
    "X_train"
   ]
  },
  {
   "cell_type": "markdown",
   "metadata": {},
   "source": [
    "Different algorithms are tried. The most efficient is the GradientBoostingRegressor() algorithm. "
   ]
  },
  {
   "cell_type": "code",
   "execution_count": 10,
   "metadata": {
    "execution": {
     "iopub.execute_input": "2023-12-19T11:19:42.829818Z",
     "iopub.status.busy": "2023-12-19T11:19:42.828386Z",
     "iopub.status.idle": "2023-12-19T12:55:30.759024Z",
     "shell.execute_reply": "2023-12-19T12:55:29.828096Z",
     "shell.execute_reply.started": "2023-12-19T11:19:42.829677Z"
    },
    "tags": []
   },
   "outputs": [
    {
     "name": "stdout",
     "output_type": "stream",
     "text": [
      "MLPRegressor(hidden_layer_sizes=(10, 10, 10), max_iter=1000, random_state=42)\n",
      "MSE:  998219.9262948276\n",
      "R2:  0.3930747266940203\n",
      "GradientBoostingRegressor(max_depth=10, random_state=42)\n",
      "MSE:  293677.95936597674\n",
      "R2:  0.8214415770944109\n",
      "ExtraTreesRegressor(random_state=42)\n",
      "MSE:  235455.87455629595\n",
      "R2:  0.8568410454928435\n"
     ]
    }
   ],
   "source": [
    "methods = [MLPRegressor(hidden_layer_sizes=(10, 10, 10), max_iter=1000, activation='relu', solver='adam', random_state=42), GradientBoostingRegressor(n_estimators=100, max_depth=10, random_state=42), ExtraTreesRegressor(n_estimators=100, random_state=42)]\n",
    "r2s = []\n",
    "MSEs = []\n",
    "for method in methods: \n",
    "    method.fit(X_train, y_train)\n",
    "    y_pred = method.predict(X_test)\n",
    "    print(method)\n",
    "    print(\"MSE: \", mean_squared_error(y_test, y_pred))\n",
    "    print(\"R2: \", r2_score(y_test, y_pred))\n",
    "    MSEs.append(mean_squared_error(y_test, y_pred))\n",
    "    r2s.append(r2_score(y_test, y_pred))"
   ]
  },
  {
   "cell_type": "code",
   "execution_count": 11,
   "metadata": {
    "execution": {
     "iopub.execute_input": "2023-12-19T12:55:32.948934Z",
     "iopub.status.busy": "2023-12-19T12:55:32.864392Z",
     "iopub.status.idle": "2023-12-19T12:55:55.581268Z",
     "shell.execute_reply": "2023-12-19T12:55:55.542701Z",
     "shell.execute_reply.started": "2023-12-19T12:55:32.947132Z"
    },
    "tags": []
   },
   "outputs": [
    {
     "data": {
      "image/png": "[encoded data removed]",
      "text/plain": [
       "<Figure size 640x480 with 1 Axes>"
      ]
     },
     "metadata": {},
     "output_type": "display_data"
    }
   ],
   "source": [
    "plt.plot(r2s, label = 'R2 score')\n",
    "plt.ylabel('R2 score')\n",
    "plt.ylim(0, 1)\n",
    "plt.xticks(np.arange(4), ('Ridge', 'MLP', 'Gradient Boosting'), rotation = 45)\n",
    "\n",
    "plt.legend()\n",
    "\n",
    "plt.title('R2 score for different methods')\n",
    "plt.show()"
   ]
  },
  {
   "cell_type": "code",
   "execution_count": null,
   "metadata": {
    "execution": {
     "iopub.execute_input": "2023-12-19T13:20:14.206001Z",
     "iopub.status.busy": "2023-12-19T13:20:14.205751Z"
    },
    "tags": []
   },
   "outputs": [],
   "source": [
    "method =  ExtraTreesRegressor(n_estimators=100, random_state=42)\n",
    "method.fit(X_train, y_train)\n",
    "y_pred = method.predict(X_test)\n",
    "print(method)\n",
    "print(\"MSE: \", mean_squared_error(y_test, y_pred))\n",
    "print(\"R2: \", r2_score(y_test, y_pred))"
   ]
  },
  {
   "cell_type": "code",
   "execution_count": null,
   "metadata": {
    "tags": []
   },
   "outputs": [],
   "source": [
    "import pickle \n",
    "\n",
    "pickle.dump(method , open('gb_model.pk1' , 'wb'))\n",
    "\n",
    "method = pickle.load(open('gb_model.pk1', 'rb'))\n"
   ]
  },
  {
   "cell_type": "code",
   "execution_count": null,
   "metadata": {
    "tags": []
   },
   "outputs": [],
   "source": [
    "#plot y_pred vs y_test with density once on log scale and once on linear scale on 2 plots side by side\n",
    "plt.figure(figsize=(15, 5))\n",
    "plt.subplot(1, 2, 1)\n",
    "plt.scatter(y_test, y_pred, alpha = 0.1)\n",
    "plt.xlabel('y_test')\n",
    "plt.ylabel('y_pred')\n",
    "plt.title('y_pred vs y_test on linear scale')\n",
    "ax = plt.subplot(1, 2, 2)\n",
    "ax.scatter(np.log10(y_test), np.log10(y_pred), alpha = .1)\n",
    "ax.plot(np.log10(y_test), np.log10(y_test), color='red')\n",
    "#scale\n",
    "\n",
    "plt.xlabel('y_test')\n",
    "plt.ylabel('y_pred')\n",
    "plt.title('y_pred vs y_test on log scale')\n",
    "plt.show()\n"
   ]
  },
  {
   "cell_type": "markdown",
   "metadata": {},
   "source": [
    "When working with the dataset with all the cities, we get 0.82 of R2-score, but the most important features are by far elevation, land cover type and NDVI. \n"
   ]
  },
  {
   "cell_type": "code",
   "execution_count": null,
   "metadata": {
    "tags": []
   },
   "outputs": [],
   "source": [
    "#Identify which features are the most important for a model \n",
    "from sklearn.inspection import permutation_importance\n",
    "importances = permutation_importance(method, X_val, y_val)\n",
    "# Order the features by importance \n",
    "sorted_idx = importances.importances_mean.argsort()[::-1]\n",
    "X_train.columns[sorted_idx]"
   ]
  },
  {
   "cell_type": "markdown",
   "metadata": {},
   "source": [
    "If we now try to training on different cities,"
   ]
  },
  {
   "cell_type": "code",
   "execution_count": null,
   "metadata": {
    "tags": []
   },
   "outputs": [],
   "source": [
    "cities = df['city'].unique()\n",
    "for city in cities:\n",
    "    df_city = df[df['city'] == city]\n",
    "    df_city = df_city[df_city['isrural'] == 1]\n",
    "    y = df_city['pop']\n",
    "    X = df_city.loc[:,  ['temp', 'deltaT', 'land cover type', 'NDVI', 'elevation', 'latitude']]\n",
    "    X = pd.DataFrame(scaler.fit_transform(X), columns=X.columns)\n",
    "\n",
    "    #split the data in training, test, validation\n",
    "    X_train, X_test, y_train, y_test = train_test_split(X, y, test_size=0.2)\n",
    "    X_train, X_val, y_train, y_val = train_test_split(X_train, y_train, test_size=0.2)\n",
    "\n",
    "    method =  ExtraTreesRegressor(n_estimators=100, random_state=42)\n",
    "    method.fit(X_train, y_train)\n",
    "    y_pred = method.predict(X_test)\n",
    "    print(city)\n",
    "    print(\"MSE: \", mean_squared_error(y_test, y_pred))\n",
    "    print(\"R2: \", r2_score(y_test, y_pred))\n",
    "\n",
    "    importances = permutation_importance(method, X_val, y_val)\n",
    "    # Order the features by importance \n",
    "    sorted_idx = importances.importances_mean.argsort()[::-1]\n",
    "    print(X_train.columns[sorted_idx])"
   ]
  },
  {
   "cell_type": "code",
   "execution_count": 20,
   "metadata": {},
   "outputs": [],
   "source": [
    "city_df_interp = pd.read_csv('data_cities/city_df.csv')\n",
    "\n",
    "latitudes = {'Amsterdam' : 52.377956, 'Madrid' : 40.416775, 'Stockholm' : 59.329323, 'Lyon' : 45.764043, 'Vienna' : 48.208174}\n",
    "#add a column with the latitude of the city\n",
    "city_df_interp['latitude'] = city_df_interp['city'].map(latitudes)\n",
    "\n",
    "q1 = city_df_interp['deltaT'].quantile(0.25)\n",
    "q2 = city_df_interp['deltaT'].quantile(0.5)\n",
    "q3 = city_df_interp['deltaT'].quantile(0.75)"
   ]
  },
  {
   "cell_type": "code",
   "execution_count": 21,
   "metadata": {},
   "outputs": [
    {
     "ename": "FileNotFoundError",
     "evalue": "[Errno 2] No such file or directory: 'c:\\\\Users\\\\broth\\\\OneDrive\\\\Documents\\\\EPFL\\\\ML\\\\UHI_prediction\\\\data_cities\\\\stockholm_data\\\\russ_Stockholm_UrbClim_2011_09_v1.0.nc'",
     "output_type": "error",
     "traceback": [
      "\u001b[1;31m---------------------------------------------------------------------------\u001b[0m",
      "\u001b[1;31mKeyError\u001b[0m                                  Traceback (most recent call last)",
      "File \u001b[1;32m~\\AppData\\Local\\Packages\\PythonSoftwareFoundation.Python.3.11_qbz5n2kfra8p0\\LocalCache\\local-packages\\Python311\\site-packages\\xarray\\backends\\file_manager.py:211\u001b[0m, in \u001b[0;36mCachingFileManager._acquire_with_cache_info\u001b[1;34m(self, needs_lock)\u001b[0m\n\u001b[0;32m    210\u001b[0m \u001b[38;5;28;01mtry\u001b[39;00m:\n\u001b[1;32m--> 211\u001b[0m     file \u001b[38;5;241m=\u001b[39m \u001b[38;5;28;43mself\u001b[39;49m\u001b[38;5;241;43m.\u001b[39;49m\u001b[43m_cache\u001b[49m\u001b[43m[\u001b[49m\u001b[38;5;28;43mself\u001b[39;49m\u001b[38;5;241;43m.\u001b[39;49m\u001b[43m_key\u001b[49m\u001b[43m]\u001b[49m\n\u001b[0;32m    212\u001b[0m \u001b[38;5;28;01mexcept\u001b[39;00m \u001b[38;5;167;01mKeyError\u001b[39;00m:\n",
      "File \u001b[1;32m~\\AppData\\Local\\Packages\\PythonSoftwareFoundation.Python.3.11_qbz5n2kfra8p0\\LocalCache\\local-packages\\Python311\\site-packages\\xarray\\backends\\lru_cache.py:56\u001b[0m, in \u001b[0;36mLRUCache.__getitem__\u001b[1;34m(self, key)\u001b[0m\n\u001b[0;32m     55\u001b[0m \u001b[38;5;28;01mwith\u001b[39;00m \u001b[38;5;28mself\u001b[39m\u001b[38;5;241m.\u001b[39m_lock:\n\u001b[1;32m---> 56\u001b[0m     value \u001b[38;5;241m=\u001b[39m \u001b[38;5;28;43mself\u001b[39;49m\u001b[38;5;241;43m.\u001b[39;49m\u001b[43m_cache\u001b[49m\u001b[43m[\u001b[49m\u001b[43mkey\u001b[49m\u001b[43m]\u001b[49m\n\u001b[0;32m     57\u001b[0m     \u001b[38;5;28mself\u001b[39m\u001b[38;5;241m.\u001b[39m_cache\u001b[38;5;241m.\u001b[39mmove_to_end(key)\n",
      "\u001b[1;31mKeyError\u001b[0m: [<class 'netCDF4._netCDF4.Dataset'>, ('c:\\\\Users\\\\broth\\\\OneDrive\\\\Documents\\\\EPFL\\\\ML\\\\UHI_prediction\\\\data_cities\\\\stockholm_data\\\\russ_Stockholm_UrbClim_2011_09_v1.0.nc',), 'r', (('clobber', True), ('diskless', False), ('format', 'NETCDF4'), ('persist', False)), '20f15270-58a6-4078-95ad-5cccd9cff607']",
      "\nDuring handling of the above exception, another exception occurred:\n",
      "\u001b[1;31mFileNotFoundError\u001b[0m                         Traceback (most recent call last)",
      "Cell \u001b[1;32mIn[21], line 1\u001b[0m\n\u001b[1;32m----> 1\u001b[0m deltat, predictedDT, _, _  \u001b[38;5;241m=\u001b[39m \u001b[43mf\u001b[49m\u001b[38;5;241;43m.\u001b[39;49m\u001b[43mvisualization_prediction\u001b[49m\u001b[43m(\u001b[49m\u001b[38;5;124;43m'\u001b[39;49m\u001b[38;5;124;43mStockholm\u001b[39;49m\u001b[38;5;124;43m'\u001b[39;49m\u001b[43m,\u001b[49m\u001b[43m \u001b[49m\u001b[38;5;241;43m24\u001b[39;49m\u001b[38;5;241;43m*\u001b[39;49m\u001b[38;5;241;43m12\u001b[39;49m\u001b[38;5;241;43m+\u001b[39;49m\u001b[38;5;241;43m10\u001b[39;49m\u001b[43m,\u001b[49m\u001b[43m \u001b[49m\u001b[43mmethod\u001b[49m\u001b[43m,\u001b[49m\u001b[43m \u001b[49m\u001b[38;5;241;43m9\u001b[39;49m\u001b[43m,\u001b[49m\u001b[43m \u001b[49m\u001b[43m[\u001b[49m\u001b[43mq1\u001b[49m\u001b[43m,\u001b[49m\u001b[43m \u001b[49m\u001b[43mq2\u001b[49m\u001b[43m,\u001b[49m\u001b[43m \u001b[49m\u001b[43mq3\u001b[49m\u001b[43m]\u001b[49m\u001b[43m,\u001b[49m\u001b[43m \u001b[49m\u001b[43mcmap\u001b[49m\u001b[38;5;241;43m=\u001b[39;49m\u001b[38;5;124;43m'\u001b[39;49m\u001b[38;5;124;43mcoolwarm\u001b[39;49m\u001b[38;5;124;43m'\u001b[39;49m\u001b[43m,\u001b[49m\u001b[43m \u001b[49m\u001b[43mdeltaTcat\u001b[49m\u001b[38;5;241;43m=\u001b[39;49m\u001b[38;5;28;43;01mFalse\u001b[39;49;00m\u001b[43m)\u001b[49m\n",
      "File \u001b[1;32mc:\\Users\\broth\\OneDrive\\Documents\\EPFL\\ML\\UHI_prediction\\functions.py:298\u001b[0m, in \u001b[0;36mvisualization_prediction\u001b[1;34m(city, hour, model, month, quantiles, cmap, deltaTcat)\u001b[0m\n\u001b[0;32m    296\u001b[0m month \u001b[38;5;241m=\u001b[39m \u001b[38;5;28mstr\u001b[39m(month)\u001b[38;5;241m.\u001b[39mzfill(\u001b[38;5;241m2\u001b[39m)\n\u001b[0;32m    297\u001b[0m path_city \u001b[38;5;241m=\u001b[39m os\u001b[38;5;241m.\u001b[39mpath\u001b[38;5;241m.\u001b[39mjoin(\u001b[38;5;124m'\u001b[39m\u001b[38;5;124mdata_cities\u001b[39m\u001b[38;5;124m'\u001b[39m, city\u001b[38;5;241m.\u001b[39mlower()\u001b[38;5;241m+\u001b[39m\u001b[38;5;124mr\u001b[39m\u001b[38;5;124m'\u001b[39m\u001b[38;5;124m_data\u001b[39m\u001b[38;5;124m'\u001b[39m)\n\u001b[1;32m--> 298\u001b[0m russ_madrid \u001b[38;5;241m=\u001b[39m \u001b[43mxr\u001b[49m\u001b[38;5;241;43m.\u001b[39;49m\u001b[43mopen_dataset\u001b[49m\u001b[43m(\u001b[49m\u001b[43mpath_city\u001b[49m\u001b[38;5;241;43m+\u001b[39;49m\u001b[38;5;124;43mr\u001b[39;49m\u001b[38;5;124;43m'\u001b[39;49m\u001b[38;5;124;43m\\\u001b[39;49m\u001b[38;5;124;43mruss_\u001b[39;49m\u001b[38;5;124;43m'\u001b[39;49m\u001b[38;5;241;43m+\u001b[39;49m\u001b[43mcity\u001b[49m\u001b[38;5;241;43m+\u001b[39;49m\u001b[38;5;124;43m'\u001b[39;49m\u001b[38;5;124;43m_UrbClim_2011_\u001b[39;49m\u001b[38;5;124;43m'\u001b[39;49m\u001b[38;5;241;43m+\u001b[39;49m\u001b[43mmonth\u001b[49m\u001b[38;5;241;43m+\u001b[39;49m\u001b[38;5;124;43m'\u001b[39;49m\u001b[38;5;124;43m_v1.0.nc\u001b[39;49m\u001b[38;5;124;43m'\u001b[39;49m\u001b[43m)\u001b[49m\n\u001b[0;32m    299\u001b[0m \u001b[38;5;28;01mif\u001b[39;00m hour \u001b[38;5;129;01mnot\u001b[39;00m \u001b[38;5;129;01min\u001b[39;00m \u001b[38;5;28mrange\u001b[39m(\u001b[38;5;241m0\u001b[39m,russ_madrid\u001b[38;5;241m.\u001b[39mtime\u001b[38;5;241m.\u001b[39mshape[\u001b[38;5;241m0\u001b[39m]):\n\u001b[0;32m    300\u001b[0m     \u001b[38;5;28;01mraise\u001b[39;00m \u001b[38;5;167;01mValueError\u001b[39;00m(\u001b[38;5;124m'\u001b[39m\u001b[38;5;124mHour not in the list\u001b[39m\u001b[38;5;130;01m\\n\u001b[39;00m\u001b[38;5;124m Please choose an hour between 0 and \u001b[39m\u001b[38;5;132;01m{}\u001b[39;00m\u001b[38;5;124m'\u001b[39m\u001b[38;5;241m.\u001b[39mformat(russ_madrid\u001b[38;5;241m.\u001b[39mtime\u001b[38;5;241m.\u001b[39mshape[\u001b[38;5;241m0\u001b[39m]\u001b[38;5;241m-\u001b[39m\u001b[38;5;241m1\u001b[39m))\n",
      "File \u001b[1;32m~\\AppData\\Local\\Packages\\PythonSoftwareFoundation.Python.3.11_qbz5n2kfra8p0\\LocalCache\\local-packages\\Python311\\site-packages\\xarray\\backends\\api.py:572\u001b[0m, in \u001b[0;36mopen_dataset\u001b[1;34m(filename_or_obj, engine, chunks, cache, decode_cf, mask_and_scale, decode_times, decode_timedelta, use_cftime, concat_characters, decode_coords, drop_variables, inline_array, chunked_array_type, from_array_kwargs, backend_kwargs, **kwargs)\u001b[0m\n\u001b[0;32m    560\u001b[0m decoders \u001b[38;5;241m=\u001b[39m _resolve_decoders_kwargs(\n\u001b[0;32m    561\u001b[0m     decode_cf,\n\u001b[0;32m    562\u001b[0m     open_backend_dataset_parameters\u001b[38;5;241m=\u001b[39mbackend\u001b[38;5;241m.\u001b[39mopen_dataset_parameters,\n\u001b[1;32m   (...)\u001b[0m\n\u001b[0;32m    568\u001b[0m     decode_coords\u001b[38;5;241m=\u001b[39mdecode_coords,\n\u001b[0;32m    569\u001b[0m )\n\u001b[0;32m    571\u001b[0m overwrite_encoded_chunks \u001b[38;5;241m=\u001b[39m kwargs\u001b[38;5;241m.\u001b[39mpop(\u001b[38;5;124m\"\u001b[39m\u001b[38;5;124moverwrite_encoded_chunks\u001b[39m\u001b[38;5;124m\"\u001b[39m, \u001b[38;5;28;01mNone\u001b[39;00m)\n\u001b[1;32m--> 572\u001b[0m backend_ds \u001b[38;5;241m=\u001b[39m \u001b[43mbackend\u001b[49m\u001b[38;5;241;43m.\u001b[39;49m\u001b[43mopen_dataset\u001b[49m\u001b[43m(\u001b[49m\n\u001b[0;32m    573\u001b[0m \u001b[43m    \u001b[49m\u001b[43mfilename_or_obj\u001b[49m\u001b[43m,\u001b[49m\n\u001b[0;32m    574\u001b[0m \u001b[43m    \u001b[49m\u001b[43mdrop_variables\u001b[49m\u001b[38;5;241;43m=\u001b[39;49m\u001b[43mdrop_variables\u001b[49m\u001b[43m,\u001b[49m\n\u001b[0;32m    575\u001b[0m \u001b[43m    \u001b[49m\u001b[38;5;241;43m*\u001b[39;49m\u001b[38;5;241;43m*\u001b[39;49m\u001b[43mdecoders\u001b[49m\u001b[43m,\u001b[49m\n\u001b[0;32m    576\u001b[0m \u001b[43m    \u001b[49m\u001b[38;5;241;43m*\u001b[39;49m\u001b[38;5;241;43m*\u001b[39;49m\u001b[43mkwargs\u001b[49m\u001b[43m,\u001b[49m\n\u001b[0;32m    577\u001b[0m \u001b[43m\u001b[49m\u001b[43m)\u001b[49m\n\u001b[0;32m    578\u001b[0m ds \u001b[38;5;241m=\u001b[39m _dataset_from_backend_dataset(\n\u001b[0;32m    579\u001b[0m     backend_ds,\n\u001b[0;32m    580\u001b[0m     filename_or_obj,\n\u001b[1;32m   (...)\u001b[0m\n\u001b[0;32m    590\u001b[0m     \u001b[38;5;241m*\u001b[39m\u001b[38;5;241m*\u001b[39mkwargs,\n\u001b[0;32m    591\u001b[0m )\n\u001b[0;32m    592\u001b[0m \u001b[38;5;28;01mreturn\u001b[39;00m ds\n",
      "File \u001b[1;32m~\\AppData\\Local\\Packages\\PythonSoftwareFoundation.Python.3.11_qbz5n2kfra8p0\\LocalCache\\local-packages\\Python311\\site-packages\\xarray\\backends\\netCDF4_.py:593\u001b[0m, in \u001b[0;36mNetCDF4BackendEntrypoint.open_dataset\u001b[1;34m(self, filename_or_obj, mask_and_scale, decode_times, concat_characters, decode_coords, drop_variables, use_cftime, decode_timedelta, group, mode, format, clobber, diskless, persist, lock, autoclose)\u001b[0m\n\u001b[0;32m    572\u001b[0m \u001b[38;5;28;01mdef\u001b[39;00m \u001b[38;5;21mopen_dataset\u001b[39m(  \u001b[38;5;66;03m# type: ignore[override]  # allow LSP violation, not supporting **kwargs\u001b[39;00m\n\u001b[0;32m    573\u001b[0m     \u001b[38;5;28mself\u001b[39m,\n\u001b[0;32m    574\u001b[0m     filename_or_obj: \u001b[38;5;28mstr\u001b[39m \u001b[38;5;241m|\u001b[39m os\u001b[38;5;241m.\u001b[39mPathLike[Any] \u001b[38;5;241m|\u001b[39m BufferedIOBase \u001b[38;5;241m|\u001b[39m AbstractDataStore,\n\u001b[1;32m   (...)\u001b[0m\n\u001b[0;32m    590\u001b[0m     autoclose\u001b[38;5;241m=\u001b[39m\u001b[38;5;28;01mFalse\u001b[39;00m,\n\u001b[0;32m    591\u001b[0m ) \u001b[38;5;241m-\u001b[39m\u001b[38;5;241m>\u001b[39m Dataset:\n\u001b[0;32m    592\u001b[0m     filename_or_obj \u001b[38;5;241m=\u001b[39m _normalize_path(filename_or_obj)\n\u001b[1;32m--> 593\u001b[0m     store \u001b[38;5;241m=\u001b[39m \u001b[43mNetCDF4DataStore\u001b[49m\u001b[38;5;241;43m.\u001b[39;49m\u001b[43mopen\u001b[49m\u001b[43m(\u001b[49m\n\u001b[0;32m    594\u001b[0m \u001b[43m        \u001b[49m\u001b[43mfilename_or_obj\u001b[49m\u001b[43m,\u001b[49m\n\u001b[0;32m    595\u001b[0m \u001b[43m        \u001b[49m\u001b[43mmode\u001b[49m\u001b[38;5;241;43m=\u001b[39;49m\u001b[43mmode\u001b[49m\u001b[43m,\u001b[49m\n\u001b[0;32m    596\u001b[0m \u001b[43m        \u001b[49m\u001b[38;5;28;43mformat\u001b[39;49m\u001b[38;5;241;43m=\u001b[39;49m\u001b[38;5;28;43mformat\u001b[39;49m\u001b[43m,\u001b[49m\n\u001b[0;32m    597\u001b[0m \u001b[43m        \u001b[49m\u001b[43mgroup\u001b[49m\u001b[38;5;241;43m=\u001b[39;49m\u001b[43mgroup\u001b[49m\u001b[43m,\u001b[49m\n\u001b[0;32m    598\u001b[0m \u001b[43m        \u001b[49m\u001b[43mclobber\u001b[49m\u001b[38;5;241;43m=\u001b[39;49m\u001b[43mclobber\u001b[49m\u001b[43m,\u001b[49m\n\u001b[0;32m    599\u001b[0m \u001b[43m        \u001b[49m\u001b[43mdiskless\u001b[49m\u001b[38;5;241;43m=\u001b[39;49m\u001b[43mdiskless\u001b[49m\u001b[43m,\u001b[49m\n\u001b[0;32m    600\u001b[0m \u001b[43m        \u001b[49m\u001b[43mpersist\u001b[49m\u001b[38;5;241;43m=\u001b[39;49m\u001b[43mpersist\u001b[49m\u001b[43m,\u001b[49m\n\u001b[0;32m    601\u001b[0m \u001b[43m        \u001b[49m\u001b[43mlock\u001b[49m\u001b[38;5;241;43m=\u001b[39;49m\u001b[43mlock\u001b[49m\u001b[43m,\u001b[49m\n\u001b[0;32m    602\u001b[0m \u001b[43m        \u001b[49m\u001b[43mautoclose\u001b[49m\u001b[38;5;241;43m=\u001b[39;49m\u001b[43mautoclose\u001b[49m\u001b[43m,\u001b[49m\n\u001b[0;32m    603\u001b[0m \u001b[43m    \u001b[49m\u001b[43m)\u001b[49m\n\u001b[0;32m    605\u001b[0m     store_entrypoint \u001b[38;5;241m=\u001b[39m StoreBackendEntrypoint()\n\u001b[0;32m    606\u001b[0m     \u001b[38;5;28;01mwith\u001b[39;00m close_on_error(store):\n",
      "File \u001b[1;32m~\\AppData\\Local\\Packages\\PythonSoftwareFoundation.Python.3.11_qbz5n2kfra8p0\\LocalCache\\local-packages\\Python311\\site-packages\\xarray\\backends\\netCDF4_.py:400\u001b[0m, in \u001b[0;36mNetCDF4DataStore.open\u001b[1;34m(cls, filename, mode, format, group, clobber, diskless, persist, lock, lock_maker, autoclose)\u001b[0m\n\u001b[0;32m    394\u001b[0m kwargs \u001b[38;5;241m=\u001b[39m \u001b[38;5;28mdict\u001b[39m(\n\u001b[0;32m    395\u001b[0m     clobber\u001b[38;5;241m=\u001b[39mclobber, diskless\u001b[38;5;241m=\u001b[39mdiskless, persist\u001b[38;5;241m=\u001b[39mpersist, \u001b[38;5;28mformat\u001b[39m\u001b[38;5;241m=\u001b[39m\u001b[38;5;28mformat\u001b[39m\n\u001b[0;32m    396\u001b[0m )\n\u001b[0;32m    397\u001b[0m manager \u001b[38;5;241m=\u001b[39m CachingFileManager(\n\u001b[0;32m    398\u001b[0m     netCDF4\u001b[38;5;241m.\u001b[39mDataset, filename, mode\u001b[38;5;241m=\u001b[39mmode, kwargs\u001b[38;5;241m=\u001b[39mkwargs\n\u001b[0;32m    399\u001b[0m )\n\u001b[1;32m--> 400\u001b[0m \u001b[38;5;28;01mreturn\u001b[39;00m \u001b[38;5;28;43mcls\u001b[39;49m\u001b[43m(\u001b[49m\u001b[43mmanager\u001b[49m\u001b[43m,\u001b[49m\u001b[43m \u001b[49m\u001b[43mgroup\u001b[49m\u001b[38;5;241;43m=\u001b[39;49m\u001b[43mgroup\u001b[49m\u001b[43m,\u001b[49m\u001b[43m \u001b[49m\u001b[43mmode\u001b[49m\u001b[38;5;241;43m=\u001b[39;49m\u001b[43mmode\u001b[49m\u001b[43m,\u001b[49m\u001b[43m \u001b[49m\u001b[43mlock\u001b[49m\u001b[38;5;241;43m=\u001b[39;49m\u001b[43mlock\u001b[49m\u001b[43m,\u001b[49m\u001b[43m \u001b[49m\u001b[43mautoclose\u001b[49m\u001b[38;5;241;43m=\u001b[39;49m\u001b[43mautoclose\u001b[49m\u001b[43m)\u001b[49m\n",
      "File \u001b[1;32m~\\AppData\\Local\\Packages\\PythonSoftwareFoundation.Python.3.11_qbz5n2kfra8p0\\LocalCache\\local-packages\\Python311\\site-packages\\xarray\\backends\\netCDF4_.py:347\u001b[0m, in \u001b[0;36mNetCDF4DataStore.__init__\u001b[1;34m(self, manager, group, mode, lock, autoclose)\u001b[0m\n\u001b[0;32m    345\u001b[0m \u001b[38;5;28mself\u001b[39m\u001b[38;5;241m.\u001b[39m_group \u001b[38;5;241m=\u001b[39m group\n\u001b[0;32m    346\u001b[0m \u001b[38;5;28mself\u001b[39m\u001b[38;5;241m.\u001b[39m_mode \u001b[38;5;241m=\u001b[39m mode\n\u001b[1;32m--> 347\u001b[0m \u001b[38;5;28mself\u001b[39m\u001b[38;5;241m.\u001b[39mformat \u001b[38;5;241m=\u001b[39m \u001b[38;5;28;43mself\u001b[39;49m\u001b[38;5;241;43m.\u001b[39;49m\u001b[43mds\u001b[49m\u001b[38;5;241m.\u001b[39mdata_model\n\u001b[0;32m    348\u001b[0m \u001b[38;5;28mself\u001b[39m\u001b[38;5;241m.\u001b[39m_filename \u001b[38;5;241m=\u001b[39m \u001b[38;5;28mself\u001b[39m\u001b[38;5;241m.\u001b[39mds\u001b[38;5;241m.\u001b[39mfilepath()\n\u001b[0;32m    349\u001b[0m \u001b[38;5;28mself\u001b[39m\u001b[38;5;241m.\u001b[39mis_remote \u001b[38;5;241m=\u001b[39m is_remote_uri(\u001b[38;5;28mself\u001b[39m\u001b[38;5;241m.\u001b[39m_filename)\n",
      "File \u001b[1;32m~\\AppData\\Local\\Packages\\PythonSoftwareFoundation.Python.3.11_qbz5n2kfra8p0\\LocalCache\\local-packages\\Python311\\site-packages\\xarray\\backends\\netCDF4_.py:409\u001b[0m, in \u001b[0;36mNetCDF4DataStore.ds\u001b[1;34m(self)\u001b[0m\n\u001b[0;32m    407\u001b[0m \u001b[38;5;129m@property\u001b[39m\n\u001b[0;32m    408\u001b[0m \u001b[38;5;28;01mdef\u001b[39;00m \u001b[38;5;21mds\u001b[39m(\u001b[38;5;28mself\u001b[39m):\n\u001b[1;32m--> 409\u001b[0m     \u001b[38;5;28;01mreturn\u001b[39;00m \u001b[38;5;28;43mself\u001b[39;49m\u001b[38;5;241;43m.\u001b[39;49m\u001b[43m_acquire\u001b[49m\u001b[43m(\u001b[49m\u001b[43m)\u001b[49m\n",
      "File \u001b[1;32m~\\AppData\\Local\\Packages\\PythonSoftwareFoundation.Python.3.11_qbz5n2kfra8p0\\LocalCache\\local-packages\\Python311\\site-packages\\xarray\\backends\\netCDF4_.py:403\u001b[0m, in \u001b[0;36mNetCDF4DataStore._acquire\u001b[1;34m(self, needs_lock)\u001b[0m\n\u001b[0;32m    402\u001b[0m \u001b[38;5;28;01mdef\u001b[39;00m \u001b[38;5;21m_acquire\u001b[39m(\u001b[38;5;28mself\u001b[39m, needs_lock\u001b[38;5;241m=\u001b[39m\u001b[38;5;28;01mTrue\u001b[39;00m):\n\u001b[1;32m--> 403\u001b[0m \u001b[43m    \u001b[49m\u001b[38;5;28;43;01mwith\u001b[39;49;00m\u001b[43m \u001b[49m\u001b[38;5;28;43mself\u001b[39;49m\u001b[38;5;241;43m.\u001b[39;49m\u001b[43m_manager\u001b[49m\u001b[38;5;241;43m.\u001b[39;49m\u001b[43macquire_context\u001b[49m\u001b[43m(\u001b[49m\u001b[43mneeds_lock\u001b[49m\u001b[43m)\u001b[49m\u001b[43m \u001b[49m\u001b[38;5;28;43;01mas\u001b[39;49;00m\u001b[43m \u001b[49m\u001b[43mroot\u001b[49m\u001b[43m:\u001b[49m\n\u001b[0;32m    404\u001b[0m \u001b[43m        \u001b[49m\u001b[43mds\u001b[49m\u001b[43m \u001b[49m\u001b[38;5;241;43m=\u001b[39;49m\u001b[43m \u001b[49m\u001b[43m_nc4_require_group\u001b[49m\u001b[43m(\u001b[49m\u001b[43mroot\u001b[49m\u001b[43m,\u001b[49m\u001b[43m \u001b[49m\u001b[38;5;28;43mself\u001b[39;49m\u001b[38;5;241;43m.\u001b[39;49m\u001b[43m_group\u001b[49m\u001b[43m,\u001b[49m\u001b[43m \u001b[49m\u001b[38;5;28;43mself\u001b[39;49m\u001b[38;5;241;43m.\u001b[39;49m\u001b[43m_mode\u001b[49m\u001b[43m)\u001b[49m\n\u001b[0;32m    405\u001b[0m     \u001b[38;5;28;01mreturn\u001b[39;00m ds\n",
      "File \u001b[1;32mC:\\Program Files\\WindowsApps\\PythonSoftwareFoundation.Python.3.11_3.11.1776.0_x64__qbz5n2kfra8p0\\Lib\\contextlib.py:137\u001b[0m, in \u001b[0;36m_GeneratorContextManager.__enter__\u001b[1;34m(self)\u001b[0m\n\u001b[0;32m    135\u001b[0m \u001b[38;5;28;01mdel\u001b[39;00m \u001b[38;5;28mself\u001b[39m\u001b[38;5;241m.\u001b[39margs, \u001b[38;5;28mself\u001b[39m\u001b[38;5;241m.\u001b[39mkwds, \u001b[38;5;28mself\u001b[39m\u001b[38;5;241m.\u001b[39mfunc\n\u001b[0;32m    136\u001b[0m \u001b[38;5;28;01mtry\u001b[39;00m:\n\u001b[1;32m--> 137\u001b[0m     \u001b[38;5;28;01mreturn\u001b[39;00m \u001b[38;5;28mnext\u001b[39m(\u001b[38;5;28mself\u001b[39m\u001b[38;5;241m.\u001b[39mgen)\n\u001b[0;32m    138\u001b[0m \u001b[38;5;28;01mexcept\u001b[39;00m \u001b[38;5;167;01mStopIteration\u001b[39;00m:\n\u001b[0;32m    139\u001b[0m     \u001b[38;5;28;01mraise\u001b[39;00m \u001b[38;5;167;01mRuntimeError\u001b[39;00m(\u001b[38;5;124m\"\u001b[39m\u001b[38;5;124mgenerator didn\u001b[39m\u001b[38;5;124m'\u001b[39m\u001b[38;5;124mt yield\u001b[39m\u001b[38;5;124m\"\u001b[39m) \u001b[38;5;28;01mfrom\u001b[39;00m \u001b[38;5;28;01mNone\u001b[39;00m\n",
      "File \u001b[1;32m~\\AppData\\Local\\Packages\\PythonSoftwareFoundation.Python.3.11_qbz5n2kfra8p0\\LocalCache\\local-packages\\Python311\\site-packages\\xarray\\backends\\file_manager.py:199\u001b[0m, in \u001b[0;36mCachingFileManager.acquire_context\u001b[1;34m(self, needs_lock)\u001b[0m\n\u001b[0;32m    196\u001b[0m \u001b[38;5;129m@contextlib\u001b[39m\u001b[38;5;241m.\u001b[39mcontextmanager\n\u001b[0;32m    197\u001b[0m \u001b[38;5;28;01mdef\u001b[39;00m \u001b[38;5;21macquire_context\u001b[39m(\u001b[38;5;28mself\u001b[39m, needs_lock\u001b[38;5;241m=\u001b[39m\u001b[38;5;28;01mTrue\u001b[39;00m):\n\u001b[0;32m    198\u001b[0m \u001b[38;5;250m    \u001b[39m\u001b[38;5;124;03m\"\"\"Context manager for acquiring a file.\"\"\"\u001b[39;00m\n\u001b[1;32m--> 199\u001b[0m     file, cached \u001b[38;5;241m=\u001b[39m \u001b[38;5;28;43mself\u001b[39;49m\u001b[38;5;241;43m.\u001b[39;49m\u001b[43m_acquire_with_cache_info\u001b[49m\u001b[43m(\u001b[49m\u001b[43mneeds_lock\u001b[49m\u001b[43m)\u001b[49m\n\u001b[0;32m    200\u001b[0m     \u001b[38;5;28;01mtry\u001b[39;00m:\n\u001b[0;32m    201\u001b[0m         \u001b[38;5;28;01myield\u001b[39;00m file\n",
      "File \u001b[1;32m~\\AppData\\Local\\Packages\\PythonSoftwareFoundation.Python.3.11_qbz5n2kfra8p0\\LocalCache\\local-packages\\Python311\\site-packages\\xarray\\backends\\file_manager.py:217\u001b[0m, in \u001b[0;36mCachingFileManager._acquire_with_cache_info\u001b[1;34m(self, needs_lock)\u001b[0m\n\u001b[0;32m    215\u001b[0m     kwargs \u001b[38;5;241m=\u001b[39m kwargs\u001b[38;5;241m.\u001b[39mcopy()\n\u001b[0;32m    216\u001b[0m     kwargs[\u001b[38;5;124m\"\u001b[39m\u001b[38;5;124mmode\u001b[39m\u001b[38;5;124m\"\u001b[39m] \u001b[38;5;241m=\u001b[39m \u001b[38;5;28mself\u001b[39m\u001b[38;5;241m.\u001b[39m_mode\n\u001b[1;32m--> 217\u001b[0m file \u001b[38;5;241m=\u001b[39m \u001b[38;5;28;43mself\u001b[39;49m\u001b[38;5;241;43m.\u001b[39;49m\u001b[43m_opener\u001b[49m\u001b[43m(\u001b[49m\u001b[38;5;241;43m*\u001b[39;49m\u001b[38;5;28;43mself\u001b[39;49m\u001b[38;5;241;43m.\u001b[39;49m\u001b[43m_args\u001b[49m\u001b[43m,\u001b[49m\u001b[43m \u001b[49m\u001b[38;5;241;43m*\u001b[39;49m\u001b[38;5;241;43m*\u001b[39;49m\u001b[43mkwargs\u001b[49m\u001b[43m)\u001b[49m\n\u001b[0;32m    218\u001b[0m \u001b[38;5;28;01mif\u001b[39;00m \u001b[38;5;28mself\u001b[39m\u001b[38;5;241m.\u001b[39m_mode \u001b[38;5;241m==\u001b[39m \u001b[38;5;124m\"\u001b[39m\u001b[38;5;124mw\u001b[39m\u001b[38;5;124m\"\u001b[39m:\n\u001b[0;32m    219\u001b[0m     \u001b[38;5;66;03m# ensure file doesn't get overridden when opened again\u001b[39;00m\n\u001b[0;32m    220\u001b[0m     \u001b[38;5;28mself\u001b[39m\u001b[38;5;241m.\u001b[39m_mode \u001b[38;5;241m=\u001b[39m \u001b[38;5;124m\"\u001b[39m\u001b[38;5;124ma\u001b[39m\u001b[38;5;124m\"\u001b[39m\n",
      "File \u001b[1;32msrc\\\\netCDF4\\\\_netCDF4.pyx:2469\u001b[0m, in \u001b[0;36mnetCDF4._netCDF4.Dataset.__init__\u001b[1;34m()\u001b[0m\n",
      "File \u001b[1;32msrc\\\\netCDF4\\\\_netCDF4.pyx:2028\u001b[0m, in \u001b[0;36mnetCDF4._netCDF4._ensure_nc_success\u001b[1;34m()\u001b[0m\n",
      "\u001b[1;31mFileNotFoundError\u001b[0m: [Errno 2] No such file or directory: 'c:\\\\Users\\\\broth\\\\OneDrive\\\\Documents\\\\EPFL\\\\ML\\\\UHI_prediction\\\\data_cities\\\\stockholm_data\\\\russ_Stockholm_UrbClim_2011_09_v1.0.nc'"
     ]
    }
   ],
   "source": [
    "deltat, predictedDT, _, _  = f.visualization_prediction('Stockholm', 24*12+10, method, 9, [q1, q2, q3], cmap='coolwarm', deltaTcat=False)"
   ]
  },
  {
   "cell_type": "markdown",
   "metadata": {},
   "source": [
    "The algorithm still needs to be fine-tuned to optimize the results, but we already obtained an approximation of the population which is quite satisfying."
   ]
  },
  {
   "cell_type": "code",
   "execution_count": null,
   "metadata": {
    "execution": {
     "iopub.status.busy": "2023-12-19T11:17:27.963582Z",
     "iopub.status.idle": "2023-12-19T11:17:27.963906Z",
     "shell.execute_reply": "2023-12-19T11:17:27.963757Z",
     "shell.execute_reply.started": "2023-12-19T11:17:27.963742Z"
    },
    "tags": []
   },
   "outputs": [],
   "source": [
    "# best algortihm is the gradient boosting regressor \n",
    "# we will now try to finetune the hyperparameters\n",
    "from sklearn.model_selection import GridSearchCV\n",
    "from sklearn.model_selection import RandomizedSearchCV\n",
    "from scipy.stats import randint as sp_randint\n",
    "\n",
    "# Number of trees in random forest\n",
    "n_estimators = [int(x) for x in np.linspace(start = 10, stop = 150, num = 10)]\n",
    "# Number of features to consider at every split\n",
    "max_features = np.linspace(0.1, 1, num = 10)\n",
    "# Maximum number of levels in tree\n",
    "max_depth = [int(x) for x in np.linspace(5, 100, num = 10)]\n",
    "max_depth.append(None)\n",
    "# Minimum number of samples required to split a node\n",
    "min_samples_split = [2, 5, 10, 20]\n",
    "# Minimum number of samples required at each leaf node\n",
    "min_samples_leaf = [1, 2, 4, 8]\n",
    "# Method of selecting samples for training each tree\n",
    "bootstrap = [True, False]\n",
    "# Create the random grid\n",
    "random_grid = {'n_estimators': sp_randint(10, 150),\n",
    "               'max_features': [ 'sqrt', 'log2'],\n",
    "               'max_depth': sp_randint(5, 100),\n",
    "               'min_samples_split': sp_randint(2, 20),\n",
    "               'min_samples_leaf': sp_randint(1, 8)}\n",
    "# Use the random grid to search for best hyperparameters\n",
    "# First create the base model to tune\n",
    "rf = HistGradientBoostingRegressor()\n",
    "# Random search of parameters, using 3 fold cross validation,\n",
    "# search across 50 different combinations, and use all available cores\n",
    "rf_random = RandomizedSearchCV(estimator = rf, param_distributions = random_grid,\n",
    "                               n_iter =50 , cv = 3, verbose=2, random_state=42, n_jobs = -1)\n",
    "# Fit the random search model\n",
    "rf_random.fit(X_val, y_val)\n",
    "rf_random.best_params_\n"
   ]
  }
 ],
 "metadata": {
  "kernelspec": {
   "display_name": "ML",
   "language": "python",
   "name": "ml"
  },
  "language_info": {
   "codemirror_mode": {
    "name": "ipython",
    "version": 3
   },
   "file_extension": ".py",
   "mimetype": "text/x-python",
   "name": "python",
   "nbconvert_exporter": "python",
   "pygments_lexer": "ipython3",
   "version": "3.11.5"
  }
 },
 "nbformat": 4,
 "nbformat_minor": 4
}
